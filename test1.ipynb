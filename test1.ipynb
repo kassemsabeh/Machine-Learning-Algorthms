{
 "cells": [
  {
   "cell_type": "code",
   "execution_count": 61,
   "metadata": {},
   "outputs": [],
   "source": [
    "import numpy as np\n",
    "import scipy.io"
   ]
  },
  {
   "cell_type": "code",
   "execution_count": 3,
   "metadata": {},
   "outputs": [],
   "source": [
    "data = scipy.io.loadmat('ex4data1.mat')\n",
    "weights = scipy.io.loadmat('ex4weights.mat')"
   ]
  },
  {
   "cell_type": "code",
   "execution_count": 14,
   "metadata": {},
   "outputs": [],
   "source": [
    "theta1 = weights['Theta1']\n",
    "theta2 = weights['Theta2']"
   ]
  },
  {
   "cell_type": "code",
   "execution_count": 16,
   "metadata": {},
   "outputs": [
    {
     "data": {
      "text/plain": [
       "(10, 26)"
      ]
     },
     "execution_count": 16,
     "metadata": {},
     "output_type": "execute_result"
    }
   ],
   "source": [
    "theta2.shape"
   ]
  },
  {
   "cell_type": "code",
   "execution_count": 62,
   "metadata": {},
   "outputs": [],
   "source": [
    "X = data['X']\n",
    "y = data['y']"
   ]
  },
  {
   "cell_type": "markdown",
   "metadata": {},
   "source": [
    "## 1.2 - Model Representation"
   ]
  },
  {
   "cell_type": "code",
   "execution_count": 10,
   "metadata": {},
   "outputs": [],
   "source": [
    "#Neural network with i/p layer, hidden layer and one o/p layer"
   ]
  },
  {
   "cell_type": "markdown",
   "metadata": {},
   "source": [
    "## 1.3 - Feedforward and Cost Function"
   ]
  },
  {
   "cell_type": "code",
   "execution_count": 18,
   "metadata": {},
   "outputs": [
    {
     "data": {
      "text/plain": [
       "(5000, 1)"
      ]
     },
     "execution_count": 18,
     "metadata": {},
     "output_type": "execute_result"
    }
   ],
   "source": [
    "y.shape"
   ]
  },
  {
   "cell_type": "code",
   "execution_count": 16,
   "metadata": {},
   "outputs": [],
   "source": [
    "#Transform y to 500 * 10 matrix using one hot encoding\n",
    "y_encoded = np.zeros((y.shape[0], np.unique(y).size))"
   ]
  },
  {
   "cell_type": "code",
   "execution_count": 17,
   "metadata": {
    "scrolled": true
   },
   "outputs": [],
   "source": [
    "for i in range(y.shape[0]):\n",
    "    j = y[i, 0] - 1\n",
    "    #if (j == 10):\n",
    "        #j = 9\n",
    "    y_encoded[i,j] = 1"
   ]
  },
  {
   "cell_type": "code",
   "execution_count": 140,
   "metadata": {},
   "outputs": [
    {
     "name": "stdout",
     "output_type": "stream",
     "text": [
      "Initialized Neural Network...\n"
     ]
    }
   ],
   "source": [
    "nn = NeuralNetwork(theta1, theta2)"
   ]
  },
  {
   "cell_type": "code",
   "execution_count": 141,
   "metadata": {},
   "outputs": [
    {
     "name": "stdout",
     "output_type": "stream",
     "text": [
      "0.38109495927495074\n"
     ]
    },
    {
     "data": {
      "text/plain": [
       "array([[1.12661530e-04, 1.74127856e-03, 2.52696959e-03, ...,\n",
       "        4.01468105e-04, 6.48072305e-03, 9.95734012e-01],\n",
       "       [4.79026796e-04, 2.41495958e-03, 3.44755685e-03, ...,\n",
       "        2.39107046e-03, 1.97025086e-03, 9.95696931e-01],\n",
       "       [8.85702310e-05, 3.24266731e-03, 2.55419797e-02, ...,\n",
       "        6.22892325e-02, 5.49803551e-03, 9.28008397e-01],\n",
       "       ...,\n",
       "       [5.17641791e-02, 3.81715020e-03, 2.96297510e-02, ...,\n",
       "        2.15667361e-03, 6.49826950e-01, 2.42384687e-05],\n",
       "       [8.30631310e-04, 6.22003774e-04, 3.14518512e-04, ...,\n",
       "        1.19366192e-02, 9.71410499e-01, 2.06173648e-04],\n",
       "       [4.81465717e-05, 4.58821829e-04, 2.15146201e-05, ...,\n",
       "        5.73434571e-03, 6.96288990e-01, 8.18576980e-02]])"
      ]
     },
     "execution_count": 141,
     "metadata": {},
     "output_type": "execute_result"
    }
   ],
   "source": [
    "nn.fit(X, y_encoded, alpha=0.2, lam=1)"
   ]
  },
  {
   "cell_type": "code",
   "execution_count": 86,
   "metadata": {},
   "outputs": [
    {
     "data": {
      "text/plain": [
       "0"
      ]
     },
     "execution_count": 86,
     "metadata": {},
     "output_type": "execute_result"
    }
   ],
   "source": [
    "nn."
   ]
  },
  {
   "cell_type": "code",
   "execution_count": 118,
   "metadata": {},
   "outputs": [],
   "source": [
    "class NeuralNetwork():\n",
    "    def __init__(self,):\n",
    "        print(\"Initialized Neural Network...\")\n",
    "    \n",
    "    def __loss(self, y):\n",
    "        reg = (self.lam / (2 * y.shape[0])) * (((self.theta1[:, 1:-1]) ** 2).sum() + ((self.theta2[:, 1:-1]) ** 2).sum())\n",
    "        return (- y * np.log(self.A3) - (1 - y) * np.log(1 - self.A3)).sum() / (y.shape[0]) + reg\n",
    "    def __sigmoid(self, z):\n",
    "         return 1 / (1 + np.exp(-z))\n",
    "    \n",
    "    def __add_bias(self, X):\n",
    "        ones = np.ones((X.shape[0], 1))\n",
    "        return np.c_[ones, X]\n",
    "        \n",
    "    def fit(self, X, y, alpha=0.0001, epochs=40):\n",
    "        self.theta1 = np.random.uniform(low=-0.12, high=0.12, size=(25, 401))\n",
    "        self.theta2 = np.random.uniform(low=-0.12, high=0.12, size=(10, 26))\n",
    "        self.losses = []\n",
    "        self.epochs = epochs\n",
    "        for epoch in range (epochs):\n",
    "            #print(f\"Epoch {epoch}:\")\n",
    "            #1-forward propagation\n",
    "            self.A1 = self.__add_bias(X)\n",
    "            z2 = self.theta1.dot(A1.T)\n",
    "            self.A2 = sigmoid(z2).T\n",
    "\n",
    "            self.A2 = self.__add_bias(self.A2)\n",
    "            z3 = self.theta2.dot(self.A2.T)\n",
    "            self.A3 = sigmoid(z3).T\n",
    "\n",
    "            #2 - Add delta\n",
    "            delta3 = self.A3 - y\n",
    "            delta2 = delta3.dot(self.theta2) * (self.A2 * (1 - self.A2))\n",
    "\n",
    "            #3 - Accumalate delta's\n",
    "            Delta2 = delta3.T.dot(self.A2)\n",
    "            Delta1 = delta2[:, 1:].T.dot(self.A1)\n",
    "\n",
    "            #4 - Calculate gradients\n",
    "            gradient1 = Delta1.sum() / X.shape[0]\n",
    "            gradient2 = Delta2.sum() / X.shape[0]\n",
    "\n",
    "            #5 - update gradients\n",
    "            self.theta1 = self.theta1 - alpha * gradient1\n",
    "            self.theta2 = self.theta2 - alpha * gradient2\n",
    "    \n",
    "            #6 - print loss\n",
    "            #print(loss(y_encoded))\n",
    "            self.losses.append(loss(y))\n",
    "    \n",
    "    def score(self, X):\n",
    "        #self.theta1 = np.zeros((layer_1, X.shape[1]))\n",
    "        #self.alpha = alpha\n",
    "        #self.lam = lam\n",
    "        #Compute first layer\n",
    "        self.A1 = self.__add_bias(X)\n",
    "        z2 = self.theta1.dot(self.A1.T)\n",
    "        self.A2 = self.__sigmoid(z2).T\n",
    "        \n",
    "        #Compute last layer\n",
    "        self.A2 = self.__add_bias(self.A2)\n",
    "        z3 = self.theta2.dot(self.A2.T)\n",
    "        self.A3 = self.__sigmoid(z3).T\n",
    "        #print(self.__loss(y))\n",
    "        return self.A3\n",
    "    \n",
    "    #Dummy function\n",
    "    def predict(self, int):\n",
    "        value = self.A3[int].argmax() + 1\n",
    "        if(value == 10):\n",
    "            return 0\n",
    "        else: return value\n",
    "        \n",
    "        \n",
    "        "
   ]
  },
  {
   "cell_type": "markdown",
   "metadata": {},
   "source": [
    "## 2 - Back Propagation"
   ]
  },
  {
   "cell_type": "code",
   "execution_count": 8,
   "metadata": {},
   "outputs": [],
   "source": [
    "def sigmoid(z):\n",
    "    return 1 / (1 + np.exp(-z))"
   ]
  },
  {
   "cell_type": "code",
   "execution_count": 144,
   "metadata": {},
   "outputs": [],
   "source": [
    "def sigmoid_gradient(z):\n",
    "    return sigmoid(z) * (1 - sigmoid(z))"
   ]
  },
  {
   "cell_type": "code",
   "execution_count": 150,
   "metadata": {},
   "outputs": [],
   "source": [
    "theta1 = np.random.uniform(low=-0.12, high=0.12, size=(25, 401))\n",
    "theta2 = np.random.uniform(low=-0.12, high=0.12, size=(10, 26))"
   ]
  },
  {
   "cell_type": "code",
   "execution_count": 180,
   "metadata": {},
   "outputs": [],
   "source": [
    "def add_bias(X):\n",
    "        ones = np.ones((1, 1))\n",
    "        return np.c_[ones, X.T]"
   ]
  },
  {
   "cell_type": "code",
   "execution_count": 51,
   "metadata": {},
   "outputs": [],
   "source": [
    "def loss(y):\n",
    "    #reg = (self.lam / (2 * y.shape[0])) * (((self.theta1[:, 1:-1]) ** 2).sum() + ((self.theta2[:, 1:-1]) ** 2).sum())\n",
    "    return (- y * np.log(A3) - (1 - y) * np.log(1 - A3)).sum() / (y.shape[0])"
   ]
  },
  {
   "cell_type": "code",
   "execution_count": 249,
   "metadata": {},
   "outputs": [],
   "source": [
    "Delta1 = np.zeros((25, 401))\n",
    "Delta2 = np.zeros((10, 26))\n",
    "for epochs in range(20):\n",
    "    \n",
    "    for i in range(X.shape[0]):\n",
    "    \n",
    "        #1 - forward propagation:\n",
    "        A1 = add_bias(X[i].reshape(X.shape[1], 1)).T\n",
    "        z2 = theta1.dot(A1)\n",
    "        A2 = sigmoid(z2)\n",
    "\n",
    "        A2 = add_bias(A2).T\n",
    "        z3 = theta2.dot(A2)\n",
    "        A3 = sigmoid(z3)\n",
    "\n",
    "        #2 - calculate delta:\n",
    "        delta3 = A3 - y[i]\n",
    "        delta2 = theta2.T.dot(delta3) * (A2 * (1 - A2))\n",
    "        Delta1 += delta2[1:].dot(A1.T)\n",
    "        Delta2 += delta3.dot(A2.T)\n",
    "    \n",
    "    gradient1 = (1 / X.shape[0]) * Delta1\n",
    "    gradient2 = (1 / X.shape[0]) * Delta2\n",
    "    theta1 = theta1 - 0.01 * gradient1\n",
    "    theta2 = theta2 - 0.01 * gradient2"
   ]
  },
  {
   "cell_type": "code",
   "execution_count": 5,
   "metadata": {},
   "outputs": [],
   "source": [
    "theta1 = np.random.uniform(low=-0.12, high=0.12, size=(25, 401))\n",
    "theta2 = np.random.uniform(low=-0.12, high=0.12, size=(10, 26))"
   ]
  },
  {
   "cell_type": "code",
   "execution_count": 11,
   "metadata": {},
   "outputs": [],
   "source": [
    "def add_bias(X):\n",
    "    ones = np.ones((X.shape[0], 1))\n",
    "    return np.c_[ones, X]"
   ]
  },
  {
   "cell_type": "code",
   "execution_count": 131,
   "metadata": {},
   "outputs": [],
   "source": [
    "theta1 = np.random.uniform(low=-0.12, high=0.12, size=(25, 401))\n",
    "theta2 = np.random.uniform(low=-0.12, high=0.12, size=(10, 26))\n",
    "losses = []\n",
    "for epoch in range (300):\n",
    "    #print(f\"Epoch {epoch}:\")\n",
    "    #1-forward propagation\n",
    "    A1 = add_bias(X)\n",
    "    z2 = theta1.dot(A1.T)\n",
    "    A2 = sigmoid(z2).T\n",
    "\n",
    "    A2 = add_bias(A2)\n",
    "    z3 = theta2.dot(A2.T)\n",
    "    A3 = sigmoid(z3).T\n",
    "\n",
    "    #2 - Add delta\n",
    "    delta3 = A3 - y_encoded\n",
    "    delta2 = delta3.dot(theta2) * (A2 * (1 - A2))\n",
    "\n",
    "    #3 - Accumalate delta's\n",
    "    Delta2 = delta3.T.dot(A2)\n",
    "    Delta1 = delta2[:, 1:].T.dot(A1)\n",
    "\n",
    "    #4 - Calculate gradients\n",
    "    gradient1 = Delta1.sum() / X.shape[0]\n",
    "    gradient2 = Delta2.sum() / X.shape[0]\n",
    "\n",
    "    #5 - update gradients\n",
    "    theta1 = theta1 - 0.00001 * gradient1\n",
    "    theta2 = theta2 - 0.00001 * gradient2\n",
    "    \n",
    "    #6 - print loss\n",
    "    #print(loss(y_encoded))\n",
    "    losses.append(loss(y_encoded))"
   ]
  },
  {
   "cell_type": "code",
   "execution_count": 97,
   "metadata": {},
   "outputs": [],
   "source": [
    "import matplotlib.pyplot as plt"
   ]
  },
  {
   "cell_type": "code",
   "execution_count": 102,
   "metadata": {},
   "outputs": [
    {
     "data": {
      "text/plain": [
       "(range(0, 40), 1)"
      ]
     },
     "execution_count": 102,
     "metadata": {},
     "output_type": "execute_result"
    }
   ],
   "source": [
    "range(nn.epochs), len(nn.losses)"
   ]
  },
  {
   "cell_type": "code",
   "execution_count": 132,
   "metadata": {},
   "outputs": [
    {
     "data": {
      "text/plain": [
       "[<matplotlib.lines.Line2D at 0x7fbc35000250>]"
      ]
     },
     "execution_count": 132,
     "metadata": {},
     "output_type": "execute_result"
    },
    {
     "data": {
      "image/png": "[encoded data removed]",
      "text/plain": [
       "<Figure size 432x288 with 1 Axes>"
      ]
     },
     "metadata": {
      "needs_background": "light"
     },
     "output_type": "display_data"
    }
   ],
   "source": [
    "fig, ax = plt.subplots()\n",
    "ax.plot(range(300), losses)"
   ]
  },
  {
   "cell_type": "code",
   "execution_count": 120,
   "metadata": {},
   "outputs": [
    {
     "name": "stdout",
     "output_type": "stream",
     "text": [
      "Initialized Neural Network...\n"
     ]
    }
   ],
   "source": [
    "nn = NeuralNetwork(theta1, theta2)"
   ]
  },
  {
   "cell_type": "code",
   "execution_count": 113,
   "metadata": {},
   "outputs": [],
   "source": [
    "nn.fit(X, y_encoded)"
   ]
  },
  {
   "cell_type": "code",
   "execution_count": 121,
   "metadata": {},
   "outputs": [
    {
     "data": {
      "text/plain": [
       "array([[0.15323415, 0.07063307, 0.08533876, ..., 0.15547192, 0.08108383,\n",
       "        0.08301568],\n",
       "       [0.14952843, 0.06794247, 0.08246621, ..., 0.15004256, 0.07811404,\n",
       "        0.08010363],\n",
       "       [0.14800695, 0.06676027, 0.08214781, ..., 0.14955823, 0.07605191,\n",
       "        0.07967416],\n",
       "       ...,\n",
       "       [0.18696497, 0.09858578, 0.11810062, ..., 0.18789635, 0.10761864,\n",
       "        0.11710498],\n",
       "       [0.15075123, 0.06813524, 0.08342875, ..., 0.15230611, 0.07718688,\n",
       "        0.08164173],\n",
       "       [0.14977024, 0.06720173, 0.08404501, ..., 0.1503362 , 0.0777715 ,\n",
       "        0.08115549]])"
      ]
     },
     "execution_count": 121,
     "metadata": {},
     "output_type": "execute_result"
    }
   ],
   "source": [
    "nn.score(X)"
   ]
  },
  {
   "cell_type": "code",
   "execution_count": 122,
   "metadata": {},
   "outputs": [
    {
     "data": {
      "text/plain": [
       "array([0.18325394, 0.09625485, 0.11356308, 0.09638106, 0.09430549,\n",
       "       0.06856836, 0.11697239, 0.18606081, 0.10677677, 0.11141463])"
      ]
     },
     "execution_count": 122,
     "metadata": {},
     "output_type": "execute_result"
    }
   ],
   "source": [
    "nn.A3[23]"
   ]
  },
  {
   "cell_type": "code",
   "execution_count": 123,
   "metadata": {},
   "outputs": [
    {
     "data": {
      "text/plain": [
       "array([10], dtype=uint8)"
      ]
     },
     "execution_count": 123,
     "metadata": {},
     "output_type": "execute_result"
    }
   ],
   "source": [
    "y[23]"
   ]
  },
  {
   "cell_type": "code",
   "execution_count": null,
   "metadata": {},
   "outputs": [],
   "source": []
  }
 ],
 "metadata": {
  "kernelspec": {
   "display_name": "Python 3",
   "language": "python",
   "name": "python3"
  },
  "language_info": {
   "codemirror_mode": {
    "name": "ipython",
    "version": 3
   },
   "file_extension": ".py",
   "mimetype": "text/x-python",
   "name": "python",
   "nbconvert_exporter": "python",
   "pygments_lexer": "ipython3",
   "version": "3.7.6"
  }
 },
 "nbformat": 4,
 "nbformat_minor": 4
}
