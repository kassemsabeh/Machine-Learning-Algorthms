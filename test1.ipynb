{
 "cells": [
  {
   "cell_type": "markdown",
   "metadata": {},
   "source": [
    "# 1 - Regularized Linear Regression"
   ]
  },
  {
   "cell_type": "code",
   "execution_count": 1,
   "metadata": {},
   "outputs": [],
   "source": [
    "import numpy as np\n",
    "import scipy.io"
   ]
  },
  {
   "cell_type": "code",
   "execution_count": 4,
   "metadata": {},
   "outputs": [],
   "source": [
    "data = scipy.io.loadmat('ex5data1.mat')"
   ]
  },
  {
   "cell_type": "markdown",
   "metadata": {},
   "source": [
    "## 1.1 - Visualizing Dataset"
   ]
  },
  {
   "cell_type": "code",
   "execution_count": 243,
   "metadata": {
    "scrolled": true
   },
   "outputs": [],
   "source": [
    "X_train_1 = data['X']\n",
    "y_train = data['y']\n",
    "X_val = data['Xval']\n",
    "y_val = data['yval']\n",
    "X_test = data['Xtest']\n",
    "y_test = data['ytest']"
   ]
  },
  {
   "cell_type": "code",
   "execution_count": 7,
   "metadata": {},
   "outputs": [
    {
     "data": {
      "text/plain": [
       "(12, 1)"
      ]
     },
     "execution_count": 7,
     "metadata": {},
     "output_type": "execute_result"
    }
   ],
   "source": [
    "X.shape"
   ]
  },
  {
   "cell_type": "code",
   "execution_count": 8,
   "metadata": {},
   "outputs": [
    {
     "data": {
      "text/plain": [
       "(12, 1)"
      ]
     },
     "execution_count": 8,
     "metadata": {},
     "output_type": "execute_result"
    }
   ],
   "source": [
    "y.shape"
   ]
  },
  {
   "cell_type": "code",
   "execution_count": 9,
   "metadata": {},
   "outputs": [],
   "source": [
    "import matplotlib.pyplot as plt"
   ]
  },
  {
   "cell_type": "code",
   "execution_count": 25,
   "metadata": {},
   "outputs": [
    {
     "data": {
      "text/plain": [
       "Text(0, 0.5, 'Water flowing out of the dam')"
      ]
     },
     "execution_count": 25,
     "metadata": {},
     "output_type": "execute_result"
    },
    {
     "data": {
      "image/png": "[encoded data removed]",
      "text/plain": [
       "<Figure size 432x288 with 1 Axes>"
      ]
     },
     "metadata": {
      "needs_background": "light"
     },
     "output_type": "display_data"
    }
   ],
   "source": [
    "fig, ax = plt.subplots()\n",
    "ax.scatter(X_train, y_train, marker='x')\n",
    "ax.set_xlabel('Change in water level')\n",
    "ax.set_ylabel('Water flowing out of the dam')"
   ]
  },
  {
   "cell_type": "markdown",
   "metadata": {},
   "source": [
    "## 1.2 - Regularized Linear Regression"
   ]
  },
  {
   "cell_type": "code",
   "execution_count": 324,
   "metadata": {},
   "outputs": [],
   "source": [
    "class LinearRegression():\n",
    "    def __init__(self):\n",
    "        print(\"Initialized Linear Model\")\n",
    "    \n",
    "    def __add_bias(self, X):\n",
    "        ones = np.ones((X.shape[0], 1))\n",
    "        return np.c_[ones, X]\n",
    "    \n",
    "    def __loss(self, h, y):\n",
    "        reg = (self.lam / (2 * y.shape[0])) * (self.theta[1:] ** 2).sum()\n",
    "        return (1 / (2 * y.shape[0])) * ((h - y) ** 2).sum() + reg\n",
    "    \n",
    "    def __cost(self, h, y):\n",
    "        return (1 / (2 * y.shape[0])) * ((h - y) ** 2).sum()\n",
    "    \n",
    "    def fit(self, X, y, alpha=0.001, lam=1, epochs=1000):\n",
    "        X = self.__add_bias(X)\n",
    "        self.lam = lam\n",
    "        self.theta = np.zeros((X.shape[1], 1))\n",
    "        self.epochs = epochs\n",
    "        self.losses=[]\n",
    "        gradient = np.zeros((self.theta.shape))\n",
    "        \n",
    "        for epoch in range(epochs):\n",
    "            h = X.dot(self.theta)\n",
    "            gradient[0] = X[:, 0].T.dot(h - y) / y.shape[0]\n",
    "            gradient[1:] = (X[:, 1:].T.dot(h - y) / y.shape[0]) + (self.lam / y.shape[0]) * self.theta[1:]\n",
    "            #gradient = X.T.dot(h - y) / y.shape[0]\n",
    "            self.theta = self.theta - alpha * gradient\n",
    "            self.losses.append(self.__loss(h, y))\n",
    "        return(self.__cost(h, y))\n",
    "    \n",
    "    def predict(self, vector):\n",
    "        vector = self.__add_bias(vector)\n",
    "        return vector.dot(self.theta)\n",
    "    \n",
    "    def score(self, X, y):\n",
    "        pred = self.predict(X)\n",
    "        return self.__loss(pred, y)\n",
    "        "
   ]
  },
  {
   "cell_type": "code",
   "execution_count": 325,
   "metadata": {},
   "outputs": [
    {
     "name": "stdout",
     "output_type": "stream",
     "text": [
      "Initialized Linear Model\n"
     ]
    }
   ],
   "source": [
    "lr_reg = LinearRegression()"
   ]
  },
  {
   "cell_type": "code",
   "execution_count": 193,
   "metadata": {},
   "outputs": [
    {
     "name": "stdout",
     "output_type": "stream",
     "text": [
      "22.379008040373307\n"
     ]
    }
   ],
   "source": [
    "lr_reg.fit(X_train, y_train, lam=0, alpha=0.001, epochs=5000)"
   ]
  },
  {
   "cell_type": "code",
   "execution_count": 194,
   "metadata": {},
   "outputs": [
    {
     "data": {
      "text/plain": [
       "[<matplotlib.lines.Line2D at 0x7feb8a3cf6d0>]"
      ]
     },
     "execution_count": 194,
     "metadata": {},
     "output_type": "execute_result"
    },
    {
     "data": {
      "image/png": "[encoded data removed]",
      "text/plain": [
       "<Figure size 432x288 with 1 Axes>"
      ]
     },
     "metadata": {
      "needs_background": "light"
     },
     "output_type": "display_data"
    }
   ],
   "source": [
    "fig, ax = plt.subplots()\n",
    "ax.plot(range(lr_reg.epochs), lr_reg.losses)"
   ]
  },
  {
   "cell_type": "code",
   "execution_count": 195,
   "metadata": {},
   "outputs": [
    {
     "data": {
      "text/plain": [
       "Text(0, 0.5, 'Water flowing out of the dam')"
      ]
     },
     "execution_count": 195,
     "metadata": {},
     "output_type": "execute_result"
    },
    {
     "data": {
      "image/png": "[encoded data removed]",
      "text/plain": [
       "<Figure size 432x288 with 1 Axes>"
      ]
     },
     "metadata": {
      "needs_background": "light"
     },
     "output_type": "display_data"
    }
   ],
   "source": [
    "x_pts = np.linspace(-50, 40, 50)\n",
    "y_pts = lr_reg.theta[0] + lr_reg.theta[1] * x_pts\n",
    "fig, ax = plt.subplots()\n",
    "ax.scatter(X_train, y_train, marker='x')\n",
    "ax.plot(x_pts, y_pts)\n",
    "ax.set_xlabel('Change in water level')\n",
    "ax.set_ylabel('Water flowing out of the dam')\n"
   ]
  },
  {
   "cell_type": "code",
   "execution_count": 196,
   "metadata": {},
   "outputs": [
    {
     "data": {
      "text/plain": [
       "32.72873144366896"
      ]
     },
     "execution_count": 196,
     "metadata": {},
     "output_type": "execute_result"
    }
   ],
   "source": [
    "lr_reg.score(X_test, y_test)"
   ]
  },
  {
   "cell_type": "markdown",
   "metadata": {},
   "source": [
    "# 2 - Polynomial Regression"
   ]
  },
  {
   "cell_type": "code",
   "execution_count": 217,
   "metadata": {},
   "outputs": [],
   "source": [
    "from polynomial_features import PolynomialFeatures\n",
    "from feature_normalizer import MeanNormalizer"
   ]
  },
  {
   "cell_type": "code",
   "execution_count": 212,
   "metadata": {
    "scrolled": true
   },
   "outputs": [
    {
     "name": "stdout",
     "output_type": "stream",
     "text": [
      "Initialized Polynomial Features with 8 dimentions\n"
     ]
    }
   ],
   "source": [
    "poly_features = PolynomialFeatures(n_dimentions=8)"
   ]
  },
  {
   "cell_type": "code",
   "execution_count": 218,
   "metadata": {},
   "outputs": [
    {
     "name": "stdout",
     "output_type": "stream",
     "text": [
      "Initialized a Mean Normalizer Model...\n"
     ]
    }
   ],
   "source": [
    "mean = MeanNormalizer()"
   ]
  },
  {
   "cell_type": "code",
   "execution_count": 213,
   "metadata": {},
   "outputs": [],
   "source": [
    "X_poly_train = poly_features.transform(X_train, extended=False)"
   ]
  },
  {
   "cell_type": "code",
   "execution_count": 219,
   "metadata": {},
   "outputs": [],
   "source": [
    "mean.fit(X_poly_train)\n",
    "X_poly_train = mean.transform(X_poly_train)"
   ]
  },
  {
   "cell_type": "code",
   "execution_count": 328,
   "metadata": {},
   "outputs": [
    {
     "name": "stdout",
     "output_type": "stream",
     "text": [
      "Initialized Linear Model\n"
     ]
    }
   ],
   "source": [
    "pol_reg = LinearRegression()"
   ]
  },
  {
   "cell_type": "code",
   "execution_count": 237,
   "metadata": {},
   "outputs": [
    {
     "name": "stdout",
     "output_type": "stream",
     "text": [
      "1.7918780635688383\n"
     ]
    }
   ],
   "source": [
    "pol_reg.fit(X_poly_train, y, alpha=0.01, lam=0, epochs=300)"
   ]
  },
  {
   "cell_type": "code",
   "execution_count": 238,
   "metadata": {},
   "outputs": [
    {
     "data": {
      "text/plain": [
       "[<matplotlib.lines.Line2D at 0x7feb89c14d10>]"
      ]
     },
     "execution_count": 238,
     "metadata": {},
     "output_type": "execute_result"
    },
    {
     "data": {
      "image/png": "[encoded data removed]",
      "text/plain": [
       "<Figure size 432x288 with 1 Axes>"
      ]
     },
     "metadata": {
      "needs_background": "light"
     },
     "output_type": "display_data"
    }
   ],
   "source": [
    "fig, ax = plt.subplots()\n",
    "ax.plot(range(pol_reg.epochs), pol_reg.losses)"
   ]
  },
  {
   "cell_type": "code",
   "execution_count": 248,
   "metadata": {},
   "outputs": [],
   "source": [
    "X_poly_test = poly_features.transform(X_test, extended=False)"
   ]
  },
  {
   "cell_type": "code",
   "execution_count": 250,
   "metadata": {},
   "outputs": [],
   "source": [
    "X_poly_test = mean.transform(X_poly_test)"
   ]
  },
  {
   "cell_type": "code",
   "execution_count": 252,
   "metadata": {},
   "outputs": [
    {
     "data": {
      "text/plain": [
       "3.8680869724235567"
      ]
     },
     "execution_count": 252,
     "metadata": {},
     "output_type": "execute_result"
    }
   ],
   "source": [
    "pol_reg.score(X_poly_test, y_test)"
   ]
  },
  {
   "cell_type": "code",
   "execution_count": 271,
   "metadata": {},
   "outputs": [
    {
     "name": "stdout",
     "output_type": "stream",
     "text": [
      "5.458057404234026\n"
     ]
    }
   ],
   "source": [
    "pol_reg.fit(X_poly_train, y_train, alpha=0.01, lam=1, epochs=300)"
   ]
  },
  {
   "cell_type": "code",
   "execution_count": 272,
   "metadata": {},
   "outputs": [
    {
     "data": {
      "text/plain": [
       "[<matplotlib.lines.Line2D at 0x7feb89965210>]"
      ]
     },
     "execution_count": 272,
     "metadata": {},
     "output_type": "execute_result"
    },
    {
     "data": {
      "image/png": "[encoded data removed]",
      "text/plain": [
       "<Figure size 432x288 with 1 Axes>"
      ]
     },
     "metadata": {
      "needs_background": "light"
     },
     "output_type": "display_data"
    }
   ],
   "source": [
    "fig, ax = plt.subplots()\n",
    "ax.plot(range(pol_reg.epochs), pol_reg.losses)"
   ]
  },
  {
   "cell_type": "code",
   "execution_count": 273,
   "metadata": {},
   "outputs": [
    {
     "data": {
      "text/plain": [
       "5.576400674750733"
      ]
     },
     "execution_count": 273,
     "metadata": {},
     "output_type": "execute_result"
    }
   ],
   "source": [
    "pol_reg.score(X_poly_test, y_test)"
   ]
  },
  {
   "cell_type": "code",
   "execution_count": 284,
   "metadata": {},
   "outputs": [],
   "source": [
    "def learning_curve(model, X_train, y_train, X_val, y_val, alpha=0.001, lam=0, epochs=300):\n",
    "    error_train = []\n",
    "    error_val = []\n",
    "    for m in range(1, X_train.shape[0]):\n",
    "        error_train.append(model.fit(X_train[:m], y_train[:m ], alpha=alpha, lam=lam, epochs=epochs))\n",
    "        error_val.append(model.score(X_test, y_test))\n",
    "    return error_train\n",
    "        "
   ]
  },
  {
   "cell_type": "code",
   "execution_count": 331,
   "metadata": {},
   "outputs": [
    {
     "data": {
      "text/plain": [
       "1.4982843786678156e-08"
      ]
     },
     "execution_count": 331,
     "metadata": {},
     "output_type": "execute_result"
    }
   ],
   "source": [
    "pol_reg.fit(X_poly_train[:1], y_train[:1], alpha=0.01, lam=0, epochs=300)"
   ]
  },
  {
   "cell_type": "code",
   "execution_count": 332,
   "metadata": {},
   "outputs": [
    {
     "data": {
      "text/plain": [
       "191.84991084151224"
      ]
     },
     "execution_count": 332,
     "metadata": {},
     "output_type": "execute_result"
    }
   ],
   "source": [
    "pol_reg.score(X_poly_test, y_test)"
   ]
  },
  {
   "cell_type": "markdown",
   "metadata": {},
   "source": [
    "# 3 - Learning Curves"
   ]
  },
  {
   "cell_type": "code",
   "execution_count": 350,
   "metadata": {},
   "outputs": [],
   "source": [
    "error_train=[]\n",
    "error_test=[]\n",
    "for m in range(1, X_poly_train.shape[0]):\n",
    "    error_train.append(pol_reg.fit(X_poly_train[:m], y_train[:m], alpha=0.01, lam=0.01, epochs=300))\n",
    "    error_test.append(pol_reg.score(X_poly_test, y_test))"
   ]
  },
  {
   "cell_type": "code",
   "execution_count": 351,
   "metadata": {},
   "outputs": [
    {
     "data": {
      "text/plain": [
       "<matplotlib.legend.Legend at 0x7feb890560d0>"
      ]
     },
     "execution_count": 351,
     "metadata": {},
     "output_type": "execute_result"
    },
    {
     "data": {
      "image/png": "[encoded data removed]",
      "text/plain": [
       "<Figure size 432x288 with 1 Axes>"
      ]
     },
     "metadata": {
      "needs_background": "light"
     },
     "output_type": "display_data"
    }
   ],
   "source": [
    "fig, ax = plt.subplots()\n",
    "ax.plot(range(11), error_train, label='training error')\n",
    "ax.plot(range(11), error_test, label='test error')\n",
    "ax.set_xlabel('Number of training examples')\n",
    "ax.set_ylabel('Error')\n",
    "ax.legend()"
   ]
  },
  {
   "cell_type": "code",
   "execution_count": 339,
   "metadata": {},
   "outputs": [
    {
     "data": {
      "text/plain": [
       "[191.84991084151224,\n",
       " 190.70508014461862,\n",
       " 212.34999737424067,\n",
       " 221.19001625100822,\n",
       " 6.110419952700221,\n",
       " 5.743362545871888,\n",
       " 4.267859728823553,\n",
       " 3.6136187324871227,\n",
       " 4.2889152637064525,\n",
       " 4.335956342186908,\n",
       " 4.321981347039683]"
      ]
     },
     "execution_count": 339,
     "metadata": {},
     "output_type": "execute_result"
    }
   ],
   "source": [
    "error_test"
   ]
  },
  {
   "cell_type": "code",
   "execution_count": null,
   "metadata": {},
   "outputs": [],
   "source": []
  }
 ],
 "metadata": {
  "kernelspec": {
   "display_name": "Python 3",
   "language": "python",
   "name": "python3"
  },
  "language_info": {
   "codemirror_mode": {
    "name": "ipython",
    "version": 3
   },
   "file_extension": ".py",
   "mimetype": "text/x-python",
   "name": "python",
   "nbconvert_exporter": "python",
   "pygments_lexer": "ipython3",
   "version": "3.7.6"
  }
 },
 "nbformat": 4,
 "nbformat_minor": 4
}
