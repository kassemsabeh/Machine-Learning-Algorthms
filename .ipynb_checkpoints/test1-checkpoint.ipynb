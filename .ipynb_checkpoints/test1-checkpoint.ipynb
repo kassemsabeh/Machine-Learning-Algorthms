{
 "cells": [
  {
   "cell_type": "code",
   "execution_count": 1,
   "metadata": {},
   "outputs": [],
   "source": [
    "import numpy as np\n",
    "import scipy.io"
   ]
  },
  {
   "cell_type": "code",
   "execution_count": 12,
   "metadata": {},
   "outputs": [],
   "source": [
    "data = scipy.io.loadmat('ex4data1.mat')\n",
    "weights = scipy.io.loadmat('ex4weights.mat')"
   ]
  },
  {
   "cell_type": "code",
   "execution_count": 14,
   "metadata": {},
   "outputs": [],
   "source": [
    "theta1 = weights['Theta1']\n",
    "theta2 = weights['Theta2']"
   ]
  },
  {
   "cell_type": "code",
   "execution_count": 16,
   "metadata": {},
   "outputs": [
    {
     "data": {
      "text/plain": [
       "(10, 26)"
      ]
     },
     "execution_count": 16,
     "metadata": {},
     "output_type": "execute_result"
    }
   ],
   "source": [
    "theta2.shape"
   ]
  },
  {
   "cell_type": "code",
   "execution_count": 5,
   "metadata": {},
   "outputs": [],
   "source": [
    "X = data['X']\n",
    "y = data['y']"
   ]
  },
  {
   "cell_type": "markdown",
   "metadata": {},
   "source": [
    "## 1.2 - Model Representation"
   ]
  },
  {
   "cell_type": "code",
   "execution_count": 10,
   "metadata": {},
   "outputs": [],
   "source": [
    "#Neural network with i/p layer, hidden layer and one o/p layer"
   ]
  },
  {
   "cell_type": "markdown",
   "metadata": {},
   "source": [
    "## 1.3 - Feedforward and Cost Function"
   ]
  },
  {
   "cell_type": "code",
   "execution_count": 18,
   "metadata": {},
   "outputs": [
    {
     "data": {
      "text/plain": [
       "(5000, 1)"
      ]
     },
     "execution_count": 18,
     "metadata": {},
     "output_type": "execute_result"
    }
   ],
   "source": [
    "y.shape"
   ]
  },
  {
   "cell_type": "code",
   "execution_count": 83,
   "metadata": {},
   "outputs": [],
   "source": [
    "#Transform y to 500 * 10 matrix using one hot encoding\n",
    "y_encoded = np.zeros((y.shape[0], np.unique(y).size))"
   ]
  },
  {
   "cell_type": "code",
   "execution_count": 84,
   "metadata": {
    "scrolled": true
   },
   "outputs": [],
   "source": [
    "for i in range(y.shape[0]):\n",
    "    j = y[i, 0] - 1\n",
    "    #if (j == 10):\n",
    "        #j = 9\n",
    "    y_encoded[i,j] = 1"
   ]
  },
  {
   "cell_type": "code",
   "execution_count": 140,
   "metadata": {},
   "outputs": [
    {
     "name": "stdout",
     "output_type": "stream",
     "text": [
      "Initialized Neural Network...\n"
     ]
    }
   ],
   "source": [
    "nn = NeuralNetwork(theta1, theta2)"
   ]
  },
  {
   "cell_type": "code",
   "execution_count": 141,
   "metadata": {},
   "outputs": [
    {
     "name": "stdout",
     "output_type": "stream",
     "text": [
      "0.38109495927495074\n"
     ]
    },
    {
     "data": {
      "text/plain": [
       "array([[1.12661530e-04, 1.74127856e-03, 2.52696959e-03, ...,\n",
       "        4.01468105e-04, 6.48072305e-03, 9.95734012e-01],\n",
       "       [4.79026796e-04, 2.41495958e-03, 3.44755685e-03, ...,\n",
       "        2.39107046e-03, 1.97025086e-03, 9.95696931e-01],\n",
       "       [8.85702310e-05, 3.24266731e-03, 2.55419797e-02, ...,\n",
       "        6.22892325e-02, 5.49803551e-03, 9.28008397e-01],\n",
       "       ...,\n",
       "       [5.17641791e-02, 3.81715020e-03, 2.96297510e-02, ...,\n",
       "        2.15667361e-03, 6.49826950e-01, 2.42384687e-05],\n",
       "       [8.30631310e-04, 6.22003774e-04, 3.14518512e-04, ...,\n",
       "        1.19366192e-02, 9.71410499e-01, 2.06173648e-04],\n",
       "       [4.81465717e-05, 4.58821829e-04, 2.15146201e-05, ...,\n",
       "        5.73434571e-03, 6.96288990e-01, 8.18576980e-02]])"
      ]
     },
     "execution_count": 141,
     "metadata": {},
     "output_type": "execute_result"
    }
   ],
   "source": [
    "nn.fit(X, y_encoded, alpha=0.2, lam=1)"
   ]
  },
  {
   "cell_type": "code",
   "execution_count": 86,
   "metadata": {},
   "outputs": [
    {
     "data": {
      "text/plain": [
       "0"
      ]
     },
     "execution_count": 86,
     "metadata": {},
     "output_type": "execute_result"
    }
   ],
   "source": [
    "nn."
   ]
  },
  {
   "cell_type": "code",
   "execution_count": 139,
   "metadata": {},
   "outputs": [],
   "source": [
    "class NeuralNetwork():\n",
    "    def __init__(self, theta1, theta2):\n",
    "        print(\"Initialized Neural Network...\")\n",
    "        self.theta1 = theta1\n",
    "        self.theta2 = theta2\n",
    "    \n",
    "    def __loss(self, y):\n",
    "        reg = (self.lam / (2 * y.shape[0])) * (((self.theta1[:, 1:-1]) ** 2).sum() + ((self.theta2[:, 1:-1]) ** 2).sum())\n",
    "        return (- y * np.log(self.A3) - (1 - y) * np.log(1 - self.A3)).sum() / (y.shape[0]) + reg\n",
    "    def __sigmoid(self, z):\n",
    "         return 1 / (1 + np.exp(-z))\n",
    "    \n",
    "    def __add_bias(self, X):\n",
    "        ones = np.ones((X.shape[0], 1))\n",
    "        return np.c_[ones, X]\n",
    "        \n",
    "    def fit(self, X, y, alpha, lam):\n",
    "        #self.theta1 = np.zeros((layer_1, X.shape[1]))\n",
    "        self.alpha = alpha\n",
    "        self.lam = lam\n",
    "        #Compute first layer\n",
    "        self.A1 = self.__add_bias(X)\n",
    "        z2 = self.theta1.dot(self.A1.T)\n",
    "        self.A2 = self.__sigmoid(z2).T\n",
    "        \n",
    "        #Compute last layer\n",
    "        self.A2 = self.__add_bias(self.A2)\n",
    "        z3 = self.theta2.dot(self.A2.T)\n",
    "        self.A3 = self.__sigmoid(z3).T\n",
    "        #print(self.__loss(y))\n",
    "        return self.A3\n",
    "    \n",
    "    #Dummy function\n",
    "    def predict(self, int):\n",
    "        value = self.A3[int].argmax() + 1\n",
    "        if(value == 10):\n",
    "            return 0\n",
    "        else: return value\n",
    "        \n",
    "        \n",
    "        "
   ]
  },
  {
   "cell_type": "markdown",
   "metadata": {},
   "source": [
    "## 2 - Back Propagation"
   ]
  },
  {
   "cell_type": "code",
   "execution_count": 142,
   "metadata": {},
   "outputs": [],
   "source": [
    "def sigmoid(z):\n",
    "    return 1 / (1 + np.exp(-z))"
   ]
  },
  {
   "cell_type": "code",
   "execution_count": 144,
   "metadata": {},
   "outputs": [],
   "source": [
    "def sigmoid_gradient(z):\n",
    "    return sigmoid(z) * (1 - sigmoid(z))"
   ]
  },
  {
   "cell_type": "code",
   "execution_count": 150,
   "metadata": {},
   "outputs": [],
   "source": [
    "theta1 = np.random.uniform(low=-0.12, high=0.12, size=(25, 401))\n",
    "theta2 = np.random.uniform(low=-0.12, high=0.12, size=(10, 26))"
   ]
  },
  {
   "cell_type": "code",
   "execution_count": 180,
   "metadata": {},
   "outputs": [],
   "source": [
    "def add_bias(X):\n",
    "        ones = np.ones((1, 1))\n",
    "        return np.c_[ones, X.T]"
   ]
  },
  {
   "cell_type": "code",
   "execution_count": 249,
   "metadata": {},
   "outputs": [],
   "source": [
    "Delta1 = np.zeros((25, 401))\n",
    "Delta2 = np.zeros((10, 26))\n",
    "for epochs in range(20):\n",
    "    \n",
    "    for i in range(X.shape[0]):\n",
    "    \n",
    "        #1 - forward propagation:\n",
    "        A1 = add_bias(X[i].reshape(X.shape[1], 1)).T\n",
    "        z2 = theta1.dot(A1)\n",
    "        A2 = sigmoid(z2)\n",
    "\n",
    "        A2 = add_bias(A2).T\n",
    "        z3 = theta2.dot(A2)\n",
    "        A3 = sigmoid(z3)\n",
    "\n",
    "        #2 - calculate delta:\n",
    "        delta3 = A3 - y[i]\n",
    "        delta2 = theta2.T.dot(delta3) * (A2 * (1 - A2))\n",
    "        Delta1 += delta2[1:].dot(A1.T)\n",
    "        Delta2 += delta3.dot(A2.T)\n",
    "    \n",
    "    gradient1 = (1 / X.shape[0]) * Delta1\n",
    "    gradient2 = (1 / X.shape[0]) * Delta2\n",
    "    theta1 = theta1 - 0.01 * gradient1\n",
    "    theta2 = theta2 - 0.01 * gradient2"
   ]
  },
  {
   "cell_type": "code",
   "execution_count": 256,
   "metadata": {},
   "outputs": [
    {
     "name": "stdout",
     "output_type": "stream",
     "text": [
      "Initialized Neural Network...\n"
     ]
    }
   ],
   "source": [
    "nn = NeuralNetwork(theta1, theta2)"
   ]
  },
  {
   "cell_type": "code",
   "execution_count": 260,
   "metadata": {},
   "outputs": [
    {
     "name": "stdout",
     "output_type": "stream",
     "text": [
      "nan\n"
     ]
    },
    {
     "name": "stderr",
     "output_type": "stream",
     "text": [
      "/home/kassem/anaconda3/lib/python3.7/site-packages/ipykernel_launcher.py:9: RuntimeWarning: divide by zero encountered in log\n",
      "  if __name__ == '__main__':\n",
      "/home/kassem/anaconda3/lib/python3.7/site-packages/ipykernel_launcher.py:9: RuntimeWarning: invalid value encountered in multiply\n",
      "  if __name__ == '__main__':\n"
     ]
    },
    {
     "data": {
      "text/plain": [
       "array([[1., 1., 1., ..., 1., 1., 1.],\n",
       "       [1., 1., 1., ..., 1., 1., 1.],\n",
       "       [1., 1., 1., ..., 1., 1., 1.],\n",
       "       ...,\n",
       "       [1., 1., 1., ..., 1., 1., 1.],\n",
       "       [1., 1., 1., ..., 1., 1., 1.],\n",
       "       [1., 1., 1., ..., 1., 1., 1.]])"
      ]
     },
     "execution_count": 260,
     "metadata": {},
     "output_type": "execute_result"
    }
   ],
   "source": [
    "nn.fit(X, y, alpha=0.01, lam=100)"
   ]
  },
  {
   "cell_type": "code",
   "execution_count": null,
   "metadata": {},
   "outputs": [],
   "source": []
  }
 ],
 "metadata": {
  "kernelspec": {
   "display_name": "Python 3",
   "language": "python",
   "name": "python3"
  },
  "language_info": {
   "codemirror_mode": {
    "name": "ipython",
    "version": 3
   },
   "file_extension": ".py",
   "mimetype": "text/x-python",
   "name": "python",
   "nbconvert_exporter": "python",
   "pygments_lexer": "ipython3",
   "version": "3.7.6"
  }
 },
 "nbformat": 4,
 "nbformat_minor": 4
}
