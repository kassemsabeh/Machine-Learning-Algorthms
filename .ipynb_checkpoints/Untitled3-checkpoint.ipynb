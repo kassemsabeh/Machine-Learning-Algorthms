{
 "cells": [
  {
   "cell_type": "markdown",
   "metadata": {},
   "source": [
    "# Regularized Logistic Regression"
   ]
  },
  {
   "cell_type": "code",
   "execution_count": 1,
   "metadata": {},
   "outputs": [],
   "source": [
    "import numpy as np\n",
    "import matplotlib.pyplot as plt"
   ]
  },
  {
   "cell_type": "code",
   "execution_count": 2,
   "metadata": {},
   "outputs": [],
   "source": [
    "data = np.loadtxt('ex2data2.txt', delimiter=',')"
   ]
  },
  {
   "cell_type": "code",
   "execution_count": 4,
   "metadata": {},
   "outputs": [],
   "source": [
    "X = data[:, :2]\n",
    "y = data[:, 2]"
   ]
  },
  {
   "cell_type": "markdown",
   "metadata": {},
   "source": [
    "## Visualize the Data"
   ]
  },
  {
   "cell_type": "code",
   "execution_count": 10,
   "metadata": {},
   "outputs": [
    {
     "data": {
      "text/plain": [
       "<matplotlib.legend.Legend at 0x7f64e045b050>"
      ]
     },
     "execution_count": 10,
     "metadata": {},
     "output_type": "execute_result"
    },
    {
     "data": {
      "image/png": "[encoded data removed]",
      "text/plain": [
       "<Figure size 576x360 with 1 Axes>"
      ]
     },
     "metadata": {
      "needs_background": "light"
     },
     "output_type": "display_data"
    }
   ],
   "source": [
    "pos = (y == 1)\n",
    "neg = (y == 0)\n",
    "fig, ax = plt.subplots(figsize=(8, 5))\n",
    "ax.scatter(X[pos, 0], X[pos, 1], label = 'accepted')\n",
    "ax.scatter(X[neg, 0], X[neg, 1], label = 'rejected')\n",
    "ax.set_xlabel(\"Micro test 1\")\n",
    "ax.set_ylabel(\"Micro test 2\")\n",
    "ax.legend()"
   ]
  },
  {
   "cell_type": "code",
   "execution_count": 142,
   "metadata": {},
   "outputs": [],
   "source": [
    "class PolynomialFeatures():\n",
    "    def __init__(self, n_dimentions):\n",
    "        self.dim = n_dimentions\n",
    "        print(f\"Initialized Polynomial Features with {self.dim} dimentions\")\n",
    "    \n",
    "    def transform(self, X):\n",
    "        X_pol = X\n",
    "        for i in range(X_pol.shape[1]):\n",
    "            for j in range (1, self.dim):\n",
    "                feature = (X[:, i]) ** j\n",
    "                X_pol = np.c_[X_pol, feature]\n",
    "        num = X_pol.shape[1]\n",
    "        for i in range(num - 1):\n",
    "            for j in range (i+1, num):\n",
    "                feature = X_pol[:, i].reshape(X_pol.shape[0], 1) * X_pol[:, j].reshape(X_pol.shape[0], 1)\n",
    "                X_pol = np.c_[X_pol, feature]\n",
    "        return X_pol"
   ]
  },
  {
   "cell_type": "code",
   "execution_count": 155,
   "metadata": {},
   "outputs": [
    {
     "name": "stdout",
     "output_type": "stream",
     "text": [
      "Initialized Polynomial Features with 4 dimentions\n"
     ]
    }
   ],
   "source": [
    "poly_features = PolynomialFeatures(n_dimentions=4)\n",
    "X_pol = poly_features.transform(X)"
   ]
  },
  {
   "cell_type": "code",
   "execution_count": 156,
   "metadata": {},
   "outputs": [
    {
     "data": {
      "text/plain": [
       "(118, 36)"
      ]
     },
     "execution_count": 156,
     "metadata": {},
     "output_type": "execute_result"
    }
   ],
   "source": [
    "X_pol.shape"
   ]
  },
  {
   "cell_type": "code",
   "execution_count": 164,
   "metadata": {},
   "outputs": [],
   "source": [
    "class LogisticRegression():\n",
    "    def __init__(self):\n",
    "        print(\"Initialized Logistic Regression Model..\")\n",
    "    \n",
    "    def __sigmoid(self, z):\n",
    "        return 1 / (1 + np.exp(-z))\n",
    "    \n",
    "    def __loss(self, h, y):\n",
    "        \n",
    "        return (- y * np.log(h) - (1 - y) * np.log(1 - h)).mean() + (self.lam / 2 * y.size) * (np.sum(self.theta * self.theta))\n",
    "    \n",
    "    def fit(self, X, y, num_iterations=1000, alpha=0.01, lam=100):\n",
    "        ones = np.ones((X.shape[0], 1))\n",
    "        X = np.concatenate((ones, X), axis=1)\n",
    "        self.lam = lam\n",
    "        self.coef_ = np.zeros(X.shape[1] - 1)\n",
    "        self.intercept_ = 0\n",
    "        self.theta = np.x\n",
    "        self.iterations = num_iterations\n",
    "        self.losses_ = []\n",
    "        for i in range(num_iterations):\n",
    "            z = X.dot(self.theta)\n",
    "            h = self.__sigmoid(z)\n",
    "            gradient = np.dot(X.T, (h - y)) / y.size\n",
    "            reg = 1 - ((alpha * self.lam) / y.size)\n",
    "            self.theta = self.theta - alpha * gradient\n",
    "            self.losses_.append(self.__loss(h, y))\n",
    "        print(self.__loss(h, y))\n",
    "    \n",
    "    def predict_prob(self, vector):\n",
    "        ones = np.ones((vector.shape[0], 1))\n",
    "        vector = np.concatenate((ones, vector), axis=1)\n",
    "        return self.__sigmoid(np.dot(vector, self.theta))\n",
    "    \n",
    "    def predict(self, vector, threshold=0.5):\n",
    "        return self.predict_prob(vector) >= threshold"
   ]
  },
  {
   "cell_type": "code",
   "execution_count": 165,
   "metadata": {},
   "outputs": [
    {
     "name": "stdout",
     "output_type": "stream",
     "text": [
      "Initialized Logistic Regression Model..\n"
     ]
    }
   ],
   "source": [
    "log_clf = LogisticRegression()"
   ]
  },
  {
   "cell_type": "code",
   "execution_count": 230,
   "metadata": {},
   "outputs": [
    {
     "name": "stdout",
     "output_type": "stream",
     "text": [
      "0.6931454448103382\n"
     ]
    }
   ],
   "source": [
    "log_clf.fit(X_pol, y, alpha=0.000001, lam=20, num_iterations=100)"
   ]
  },
  {
   "cell_type": "code",
   "execution_count": 231,
   "metadata": {},
   "outputs": [
    {
     "data": {
      "text/plain": [
       "[<matplotlib.lines.Line2D at 0x7f64dec46150>]"
      ]
     },
     "execution_count": 231,
     "metadata": {},
     "output_type": "execute_result"
    },
    {
     "data": {
      "image/png": "[encoded data removed]",
      "text/plain": [
       "<Figure size 432x288 with 1 Axes>"
      ]
     },
     "metadata": {
      "needs_background": "light"
     },
     "output_type": "display_data"
    }
   ],
   "source": [
    "fig, ax = plt.subplots()\n",
    "ax.plot(range(log_clf.iterations), log_clf.losses_)"
   ]
  },
  {
   "cell_type": "code",
   "execution_count": 232,
   "metadata": {},
   "outputs": [
    {
     "data": {
      "text/plain": [
       "array([-8.47334552e-07, -1.87877070e-06, -7.72536164e-09, -1.87877070e-06,\n",
       "       -5.03442157e-06, -1.83557242e-06, -7.72536164e-09, -3.76642951e-06,\n",
       "       -2.34760846e-06, -1.15012926e-06, -5.03442157e-06, -1.83557242e-06,\n",
       "       -3.93483557e-06, -1.15012926e-06, -8.19237371e-07, -3.09592133e-07,\n",
       "       -1.15012926e-06, -7.32384789e-07, -2.23921378e-07, -3.76642951e-06,\n",
       "       -2.34760846e-06, -3.93024087e-06, -1.83557242e-06, -3.93483557e-06,\n",
       "       -1.15012926e-06, -8.19237371e-07, -3.09592133e-07, -1.99705409e-06,\n",
       "       -7.32384789e-07, -1.28599520e-06, -5.83817015e-07, -2.23921378e-07,\n",
       "       -3.38640195e-07, -4.08493608e-08, -2.34760846e-06, -3.93024087e-06,\n",
       "       -3.10076287e-06])"
      ]
     },
     "execution_count": 232,
     "metadata": {},
     "output_type": "execute_result"
    }
   ],
   "source": [
    "log_clf.theta"
   ]
  },
  {
   "cell_type": "code",
   "execution_count": null,
   "metadata": {},
   "outputs": [],
   "source": []
  }
 ],
 "metadata": {
  "kernelspec": {
   "display_name": "Python 3",
   "language": "python",
   "name": "python3"
  },
  "language_info": {
   "codemirror_mode": {
    "name": "ipython",
    "version": 3
   },
   "file_extension": ".py",
   "mimetype": "text/x-python",
   "name": "python",
   "nbconvert_exporter": "python",
   "pygments_lexer": "ipython3",
   "version": "3.7.6"
  }
 },
 "nbformat": 4,
 "nbformat_minor": 4
}
